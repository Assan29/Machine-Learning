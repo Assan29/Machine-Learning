{
 "cells": [
  {
   "cell_type": "markdown",
   "id": "6a8a76f1",
   "metadata": {},
   "source": [
    "# Feature Scaling"
   ]
  },
  {
   "cell_type": "markdown",
   "id": "cbb920f8",
   "metadata": {},
   "source": [
    "Feature Scaling is a technique to standardize the independent features present in the data in a fixed range. It is performed during the data pre-processing to handle highly varying magnitudes or values or units. If feature scaling is not done, then a machine learning algorithm tends to weigh greater values, higher and consider smaller values as the lower values, regardless of the unit of the values."
   ]
  },
  {
   "cell_type": "markdown",
   "id": "e5dac53e",
   "metadata": {},
   "source": [
    "# NORMALIZATION\n",
    "* MinMax Scaling\n",
    "* Mean Scaling\n",
    "* Absolute Maximum Scaling"
   ]
  },
  {
   "cell_type": "markdown",
   "id": "d2e95ead",
   "metadata": {},
   "source": [
    "### MinMax Scaling\n",
    "* First, we are supposed to find the minimum and the maximum value of the column.\n",
    "* Then we will subtract the minimum value from the entry and divide the result by the difference between the maximum and the minimum value.\n",
    "* which the data will range after performing the above two steps is between 0 to 1."
   ]
  },
  {
   "cell_type": "code",
   "execution_count": null,
   "id": "c7aafe81",
   "metadata": {},
   "outputs": [],
   "source": [
    "Formula :                       x(old) - x(min) \n",
    "                   X(scaled) =  ---------------\n",
    "                                x(max) - x(min)"
   ]
  },
  {
   "cell_type": "markdown",
   "id": "a9067fd9",
   "metadata": {},
   "source": [
    "### Mean Scaling\n",
    "* This method is more or less the same as the previous method but here instead of the minimum value, we subtract each entry by the mean value of the whole data and then divide the results by the difference between the minimum and the maximum value."
   ]
  },
  {
   "cell_type": "code",
   "execution_count": null,
   "id": "7e083839",
   "metadata": {},
   "outputs": [],
   "source": [
    "Formula:                        x(old) - x(MEAN)\n",
    "                  X(scaled) =   ----------------\n",
    "                                x(max) - x(min)"
   ]
  },
  {
   "cell_type": "markdown",
   "id": "07bc240a",
   "metadata": {},
   "source": [
    "### Absolute Maximum Scaling\n",
    "* We should first select the maximum absolute value out of all the entries of a particular measure.\n",
    "* Then after this, we divide each entry of the column by this maximum value.\n",
    "* we will observe that each entry of the column lies in the range of -1 to 1. \n",
    "* But this method is not used that often the reason behind this is that it is too sensitive to the outliers. "
   ]
  },
  {
   "cell_type": "code",
   "execution_count": null,
   "id": "08a40c4c",
   "metadata": {},
   "outputs": [],
   "source": [
    "Formula:                       x(old) - Max(|x|)\n",
    "                  X(scaled) =  -----------------\n",
    "                                   Max(|x|)"
   ]
  },
  {
   "cell_type": "markdown",
   "id": "9ab05595",
   "metadata": {},
   "source": [
    "# STANDARDIZATION\n",
    "* This method scales features so that they have a mean of 0 and a standard deviation of 1\n",
    "* x is the original value of the feature\n",
    "* mean is the mean of the feature values\n",
    "* standard deviation is the standard deviation of the feature values\n",
    "* Standardization preserves the shape of the distribution and is suitable when the data doesn't have strong outliers."
   ]
  },
  {
   "cell_type": "code",
   "execution_count": null,
   "id": "4d32c1e0",
   "metadata": {},
   "outputs": [],
   "source": [
    "Formula:                         x(old) - MEAN\n",
    "                X(scaled) =   ---------------------\n",
    "                                standard deviation"
   ]
  },
  {
   "cell_type": "markdown",
   "id": "50340893",
   "metadata": {},
   "source": [
    "# ROBUST SCALING\n",
    "* In this method of scaling, we use two main statistical measures of the data.\n",
    "* Median , Inter-Quartile Range\n",
    "* After calculating these two values we are supposed to subtract the median from each entry and then divide the result by the interquartile range."
   ]
  },
  {
   "cell_type": "code",
   "execution_count": null,
   "id": "221daab8",
   "metadata": {},
   "outputs": [],
   "source": [
    "FORMULA :                    x(old) - Q2       x(old) - x(MEDIAN)\n",
    "               X(scaled) =  -------------  =   ------------------\n",
    "                              Q3 - Q1                IQR"
   ]
  },
  {
   "cell_type": "markdown",
   "id": "50e9c097",
   "metadata": {},
   "source": [
    "# Diamond DataSet"
   ]
  },
  {
   "cell_type": "code",
   "execution_count": 2,
   "id": "df9e991f",
   "metadata": {},
   "outputs": [],
   "source": [
    "import numpy as np\n",
    "import pandas as pd\n",
    "import sklearn"
   ]
  },
  {
   "cell_type": "code",
   "execution_count": 3,
   "id": "8f663b2a",
   "metadata": {},
   "outputs": [],
   "source": [
    "# load DataSet\n",
    "df = pd.read_csv(r\"C:\\Users\\kalag\\Downloads\\diamonds.csv\")"
   ]
  },
  {
   "cell_type": "code",
   "execution_count": 39,
   "id": "ced41f2c",
   "metadata": {},
   "outputs": [
    {
     "data": {
      "text/plain": [
       "(53940, 10)"
      ]
     },
     "execution_count": 39,
     "metadata": {},
     "output_type": "execute_result"
    }
   ],
   "source": [
    "df.shape"
   ]
  },
  {
   "cell_type": "code",
   "execution_count": 6,
   "id": "06f8482d",
   "metadata": {},
   "outputs": [
    {
     "data": {
      "text/html": [
       "<div>\n",
       "<style scoped>\n",
       "    .dataframe tbody tr th:only-of-type {\n",
       "        vertical-align: middle;\n",
       "    }\n",
       "\n",
       "    .dataframe tbody tr th {\n",
       "        vertical-align: top;\n",
       "    }\n",
       "\n",
       "    .dataframe thead th {\n",
       "        text-align: right;\n",
       "    }\n",
       "</style>\n",
       "<table border=\"1\" class=\"dataframe\">\n",
       "  <thead>\n",
       "    <tr style=\"text-align: right;\">\n",
       "      <th></th>\n",
       "      <th>Unnamed: 0</th>\n",
       "      <th>carat</th>\n",
       "      <th>cut</th>\n",
       "      <th>color</th>\n",
       "      <th>clarity</th>\n",
       "      <th>depth</th>\n",
       "      <th>table</th>\n",
       "      <th>price</th>\n",
       "      <th>x</th>\n",
       "      <th>y</th>\n",
       "      <th>z</th>\n",
       "    </tr>\n",
       "  </thead>\n",
       "  <tbody>\n",
       "    <tr>\n",
       "      <th>0</th>\n",
       "      <td>1</td>\n",
       "      <td>0.23</td>\n",
       "      <td>Ideal</td>\n",
       "      <td>E</td>\n",
       "      <td>SI2</td>\n",
       "      <td>61.5</td>\n",
       "      <td>55.0</td>\n",
       "      <td>326</td>\n",
       "      <td>3.95</td>\n",
       "      <td>3.98</td>\n",
       "      <td>2.43</td>\n",
       "    </tr>\n",
       "    <tr>\n",
       "      <th>1</th>\n",
       "      <td>2</td>\n",
       "      <td>0.21</td>\n",
       "      <td>Premium</td>\n",
       "      <td>E</td>\n",
       "      <td>SI1</td>\n",
       "      <td>59.8</td>\n",
       "      <td>61.0</td>\n",
       "      <td>326</td>\n",
       "      <td>3.89</td>\n",
       "      <td>3.84</td>\n",
       "      <td>2.31</td>\n",
       "    </tr>\n",
       "    <tr>\n",
       "      <th>2</th>\n",
       "      <td>3</td>\n",
       "      <td>0.23</td>\n",
       "      <td>Good</td>\n",
       "      <td>E</td>\n",
       "      <td>VS1</td>\n",
       "      <td>56.9</td>\n",
       "      <td>65.0</td>\n",
       "      <td>327</td>\n",
       "      <td>4.05</td>\n",
       "      <td>4.07</td>\n",
       "      <td>2.31</td>\n",
       "    </tr>\n",
       "    <tr>\n",
       "      <th>3</th>\n",
       "      <td>4</td>\n",
       "      <td>0.29</td>\n",
       "      <td>Premium</td>\n",
       "      <td>I</td>\n",
       "      <td>VS2</td>\n",
       "      <td>62.4</td>\n",
       "      <td>58.0</td>\n",
       "      <td>334</td>\n",
       "      <td>4.20</td>\n",
       "      <td>4.23</td>\n",
       "      <td>2.63</td>\n",
       "    </tr>\n",
       "    <tr>\n",
       "      <th>4</th>\n",
       "      <td>5</td>\n",
       "      <td>0.31</td>\n",
       "      <td>Good</td>\n",
       "      <td>J</td>\n",
       "      <td>SI2</td>\n",
       "      <td>63.3</td>\n",
       "      <td>58.0</td>\n",
       "      <td>335</td>\n",
       "      <td>4.34</td>\n",
       "      <td>4.35</td>\n",
       "      <td>2.75</td>\n",
       "    </tr>\n",
       "  </tbody>\n",
       "</table>\n",
       "</div>"
      ],
      "text/plain": [
       "   Unnamed: 0  carat      cut color clarity  depth  table  price     x     y  \\\n",
       "0           1   0.23    Ideal     E     SI2   61.5   55.0    326  3.95  3.98   \n",
       "1           2   0.21  Premium     E     SI1   59.8   61.0    326  3.89  3.84   \n",
       "2           3   0.23     Good     E     VS1   56.9   65.0    327  4.05  4.07   \n",
       "3           4   0.29  Premium     I     VS2   62.4   58.0    334  4.20  4.23   \n",
       "4           5   0.31     Good     J     SI2   63.3   58.0    335  4.34  4.35   \n",
       "\n",
       "      z  \n",
       "0  2.43  \n",
       "1  2.31  \n",
       "2  2.31  \n",
       "3  2.63  \n",
       "4  2.75  "
      ]
     },
     "execution_count": 6,
     "metadata": {},
     "output_type": "execute_result"
    }
   ],
   "source": [
    "df.head()"
   ]
  },
  {
   "cell_type": "code",
   "execution_count": 7,
   "id": "a4f59349",
   "metadata": {},
   "outputs": [],
   "source": [
    "df.drop(columns = ['Unnamed: 0'],inplace = True)"
   ]
  },
  {
   "cell_type": "code",
   "execution_count": 8,
   "id": "19ba8be1",
   "metadata": {},
   "outputs": [
    {
     "data": {
      "text/html": [
       "<div>\n",
       "<style scoped>\n",
       "    .dataframe tbody tr th:only-of-type {\n",
       "        vertical-align: middle;\n",
       "    }\n",
       "\n",
       "    .dataframe tbody tr th {\n",
       "        vertical-align: top;\n",
       "    }\n",
       "\n",
       "    .dataframe thead th {\n",
       "        text-align: right;\n",
       "    }\n",
       "</style>\n",
       "<table border=\"1\" class=\"dataframe\">\n",
       "  <thead>\n",
       "    <tr style=\"text-align: right;\">\n",
       "      <th></th>\n",
       "      <th>carat</th>\n",
       "      <th>cut</th>\n",
       "      <th>color</th>\n",
       "      <th>clarity</th>\n",
       "      <th>depth</th>\n",
       "      <th>table</th>\n",
       "      <th>price</th>\n",
       "      <th>x</th>\n",
       "      <th>y</th>\n",
       "      <th>z</th>\n",
       "    </tr>\n",
       "  </thead>\n",
       "  <tbody>\n",
       "    <tr>\n",
       "      <th>0</th>\n",
       "      <td>0.23</td>\n",
       "      <td>Ideal</td>\n",
       "      <td>E</td>\n",
       "      <td>SI2</td>\n",
       "      <td>61.5</td>\n",
       "      <td>55.0</td>\n",
       "      <td>326</td>\n",
       "      <td>3.95</td>\n",
       "      <td>3.98</td>\n",
       "      <td>2.43</td>\n",
       "    </tr>\n",
       "    <tr>\n",
       "      <th>1</th>\n",
       "      <td>0.21</td>\n",
       "      <td>Premium</td>\n",
       "      <td>E</td>\n",
       "      <td>SI1</td>\n",
       "      <td>59.8</td>\n",
       "      <td>61.0</td>\n",
       "      <td>326</td>\n",
       "      <td>3.89</td>\n",
       "      <td>3.84</td>\n",
       "      <td>2.31</td>\n",
       "    </tr>\n",
       "    <tr>\n",
       "      <th>2</th>\n",
       "      <td>0.23</td>\n",
       "      <td>Good</td>\n",
       "      <td>E</td>\n",
       "      <td>VS1</td>\n",
       "      <td>56.9</td>\n",
       "      <td>65.0</td>\n",
       "      <td>327</td>\n",
       "      <td>4.05</td>\n",
       "      <td>4.07</td>\n",
       "      <td>2.31</td>\n",
       "    </tr>\n",
       "    <tr>\n",
       "      <th>3</th>\n",
       "      <td>0.29</td>\n",
       "      <td>Premium</td>\n",
       "      <td>I</td>\n",
       "      <td>VS2</td>\n",
       "      <td>62.4</td>\n",
       "      <td>58.0</td>\n",
       "      <td>334</td>\n",
       "      <td>4.20</td>\n",
       "      <td>4.23</td>\n",
       "      <td>2.63</td>\n",
       "    </tr>\n",
       "    <tr>\n",
       "      <th>4</th>\n",
       "      <td>0.31</td>\n",
       "      <td>Good</td>\n",
       "      <td>J</td>\n",
       "      <td>SI2</td>\n",
       "      <td>63.3</td>\n",
       "      <td>58.0</td>\n",
       "      <td>335</td>\n",
       "      <td>4.34</td>\n",
       "      <td>4.35</td>\n",
       "      <td>2.75</td>\n",
       "    </tr>\n",
       "  </tbody>\n",
       "</table>\n",
       "</div>"
      ],
      "text/plain": [
       "   carat      cut color clarity  depth  table  price     x     y     z\n",
       "0   0.23    Ideal     E     SI2   61.5   55.0    326  3.95  3.98  2.43\n",
       "1   0.21  Premium     E     SI1   59.8   61.0    326  3.89  3.84  2.31\n",
       "2   0.23     Good     E     VS1   56.9   65.0    327  4.05  4.07  2.31\n",
       "3   0.29  Premium     I     VS2   62.4   58.0    334  4.20  4.23  2.63\n",
       "4   0.31     Good     J     SI2   63.3   58.0    335  4.34  4.35  2.75"
      ]
     },
     "execution_count": 8,
     "metadata": {},
     "output_type": "execute_result"
    }
   ],
   "source": [
    "df.head()"
   ]
  },
  {
   "cell_type": "code",
   "execution_count": 9,
   "id": "5daaa245",
   "metadata": {},
   "outputs": [
    {
     "name": "stdout",
     "output_type": "stream",
     "text": [
      "<class 'pandas.core.frame.DataFrame'>\n",
      "RangeIndex: 53940 entries, 0 to 53939\n",
      "Data columns (total 10 columns):\n",
      " #   Column   Non-Null Count  Dtype  \n",
      "---  ------   --------------  -----  \n",
      " 0   carat    53940 non-null  float64\n",
      " 1   cut      53940 non-null  object \n",
      " 2   color    53940 non-null  object \n",
      " 3   clarity  53940 non-null  object \n",
      " 4   depth    53940 non-null  float64\n",
      " 5   table    53940 non-null  float64\n",
      " 6   price    53940 non-null  int64  \n",
      " 7   x        53940 non-null  float64\n",
      " 8   y        53940 non-null  float64\n",
      " 9   z        53940 non-null  float64\n",
      "dtypes: float64(6), int64(1), object(3)\n",
      "memory usage: 4.1+ MB\n"
     ]
    }
   ],
   "source": [
    "df.info()"
   ]
  },
  {
   "cell_type": "code",
   "execution_count": 10,
   "id": "8eb45fde",
   "metadata": {},
   "outputs": [
    {
     "data": {
      "text/plain": [
       "carat      0\n",
       "cut        0\n",
       "color      0\n",
       "clarity    0\n",
       "depth      0\n",
       "table      0\n",
       "price      0\n",
       "x          0\n",
       "y          0\n",
       "z          0\n",
       "dtype: int64"
      ]
     },
     "execution_count": 10,
     "metadata": {},
     "output_type": "execute_result"
    }
   ],
   "source": [
    "df.isna().sum()"
   ]
  },
  {
   "cell_type": "markdown",
   "id": "82bb19a3",
   "metadata": {},
   "source": [
    "#### No Null values are in this dataset"
   ]
  },
  {
   "cell_type": "code",
   "execution_count": 21,
   "id": "da11f55d",
   "metadata": {},
   "outputs": [
    {
     "data": {
      "text/html": [
       "<div>\n",
       "<style scoped>\n",
       "    .dataframe tbody tr th:only-of-type {\n",
       "        vertical-align: middle;\n",
       "    }\n",
       "\n",
       "    .dataframe tbody tr th {\n",
       "        vertical-align: top;\n",
       "    }\n",
       "\n",
       "    .dataframe thead th {\n",
       "        text-align: right;\n",
       "    }\n",
       "</style>\n",
       "<table border=\"1\" class=\"dataframe\">\n",
       "  <thead>\n",
       "    <tr style=\"text-align: right;\">\n",
       "      <th></th>\n",
       "      <th>count</th>\n",
       "      <th>mean</th>\n",
       "      <th>std</th>\n",
       "      <th>min</th>\n",
       "      <th>25%</th>\n",
       "      <th>50%</th>\n",
       "      <th>75%</th>\n",
       "      <th>max</th>\n",
       "    </tr>\n",
       "  </thead>\n",
       "  <tbody>\n",
       "    <tr>\n",
       "      <th>carat</th>\n",
       "      <td>53940.0</td>\n",
       "      <td>0.797940</td>\n",
       "      <td>0.474011</td>\n",
       "      <td>0.2</td>\n",
       "      <td>0.40</td>\n",
       "      <td>0.70</td>\n",
       "      <td>1.04</td>\n",
       "      <td>5.01</td>\n",
       "    </tr>\n",
       "    <tr>\n",
       "      <th>depth</th>\n",
       "      <td>53940.0</td>\n",
       "      <td>61.749405</td>\n",
       "      <td>1.432621</td>\n",
       "      <td>43.0</td>\n",
       "      <td>61.00</td>\n",
       "      <td>61.80</td>\n",
       "      <td>62.50</td>\n",
       "      <td>79.00</td>\n",
       "    </tr>\n",
       "    <tr>\n",
       "      <th>table</th>\n",
       "      <td>53940.0</td>\n",
       "      <td>57.457184</td>\n",
       "      <td>2.234491</td>\n",
       "      <td>43.0</td>\n",
       "      <td>56.00</td>\n",
       "      <td>57.00</td>\n",
       "      <td>59.00</td>\n",
       "      <td>95.00</td>\n",
       "    </tr>\n",
       "    <tr>\n",
       "      <th>price</th>\n",
       "      <td>53940.0</td>\n",
       "      <td>3932.799722</td>\n",
       "      <td>3989.439738</td>\n",
       "      <td>326.0</td>\n",
       "      <td>950.00</td>\n",
       "      <td>2401.00</td>\n",
       "      <td>5324.25</td>\n",
       "      <td>18823.00</td>\n",
       "    </tr>\n",
       "    <tr>\n",
       "      <th>x</th>\n",
       "      <td>53940.0</td>\n",
       "      <td>5.731157</td>\n",
       "      <td>1.121761</td>\n",
       "      <td>0.0</td>\n",
       "      <td>4.71</td>\n",
       "      <td>5.70</td>\n",
       "      <td>6.54</td>\n",
       "      <td>10.74</td>\n",
       "    </tr>\n",
       "    <tr>\n",
       "      <th>y</th>\n",
       "      <td>53940.0</td>\n",
       "      <td>5.734526</td>\n",
       "      <td>1.142135</td>\n",
       "      <td>0.0</td>\n",
       "      <td>4.72</td>\n",
       "      <td>5.71</td>\n",
       "      <td>6.54</td>\n",
       "      <td>58.90</td>\n",
       "    </tr>\n",
       "    <tr>\n",
       "      <th>z</th>\n",
       "      <td>53940.0</td>\n",
       "      <td>3.538734</td>\n",
       "      <td>0.705699</td>\n",
       "      <td>0.0</td>\n",
       "      <td>2.91</td>\n",
       "      <td>3.53</td>\n",
       "      <td>4.04</td>\n",
       "      <td>31.80</td>\n",
       "    </tr>\n",
       "  </tbody>\n",
       "</table>\n",
       "</div>"
      ],
      "text/plain": [
       "         count         mean          std    min     25%      50%      75%  \\\n",
       "carat  53940.0     0.797940     0.474011    0.2    0.40     0.70     1.04   \n",
       "depth  53940.0    61.749405     1.432621   43.0   61.00    61.80    62.50   \n",
       "table  53940.0    57.457184     2.234491   43.0   56.00    57.00    59.00   \n",
       "price  53940.0  3932.799722  3989.439738  326.0  950.00  2401.00  5324.25   \n",
       "x      53940.0     5.731157     1.121761    0.0    4.71     5.70     6.54   \n",
       "y      53940.0     5.734526     1.142135    0.0    4.72     5.71     6.54   \n",
       "z      53940.0     3.538734     0.705699    0.0    2.91     3.53     4.04   \n",
       "\n",
       "            max  \n",
       "carat      5.01  \n",
       "depth     79.00  \n",
       "table     95.00  \n",
       "price  18823.00  \n",
       "x         10.74  \n",
       "y         58.90  \n",
       "z         31.80  "
      ]
     },
     "execution_count": 21,
     "metadata": {},
     "output_type": "execute_result"
    }
   ],
   "source": [
    "df.describe().T"
   ]
  },
  {
   "cell_type": "code",
   "execution_count": 11,
   "id": "ca02b903",
   "metadata": {},
   "outputs": [],
   "source": [
    "#     spliting the data\n",
    "# ----------------------------\n",
    "\n",
    "Y = df['price']\n",
    "X = df.drop(columns = 'price')"
   ]
  },
  {
   "cell_type": "code",
   "execution_count": 13,
   "id": "1bcadefe",
   "metadata": {},
   "outputs": [],
   "source": [
    "# we split the data train and test using sklearn train-test-split\n",
    "\n",
    "from sklearn.model_selection import train_test_split"
   ]
  },
  {
   "cell_type": "code",
   "execution_count": 14,
   "id": "caa891dd",
   "metadata": {},
   "outputs": [
    {
     "data": {
      "text/html": [
       "<div>\n",
       "<style scoped>\n",
       "    .dataframe tbody tr th:only-of-type {\n",
       "        vertical-align: middle;\n",
       "    }\n",
       "\n",
       "    .dataframe tbody tr th {\n",
       "        vertical-align: top;\n",
       "    }\n",
       "\n",
       "    .dataframe thead th {\n",
       "        text-align: right;\n",
       "    }\n",
       "</style>\n",
       "<table border=\"1\" class=\"dataframe\">\n",
       "  <thead>\n",
       "    <tr style=\"text-align: right;\">\n",
       "      <th></th>\n",
       "      <th>carat</th>\n",
       "      <th>cut</th>\n",
       "      <th>color</th>\n",
       "      <th>clarity</th>\n",
       "      <th>depth</th>\n",
       "      <th>table</th>\n",
       "      <th>price</th>\n",
       "      <th>x</th>\n",
       "      <th>y</th>\n",
       "      <th>z</th>\n",
       "    </tr>\n",
       "  </thead>\n",
       "  <tbody>\n",
       "    <tr>\n",
       "      <th>0</th>\n",
       "      <td>0.23</td>\n",
       "      <td>Ideal</td>\n",
       "      <td>E</td>\n",
       "      <td>SI2</td>\n",
       "      <td>61.5</td>\n",
       "      <td>55.0</td>\n",
       "      <td>326</td>\n",
       "      <td>3.95</td>\n",
       "      <td>3.98</td>\n",
       "      <td>2.43</td>\n",
       "    </tr>\n",
       "    <tr>\n",
       "      <th>1</th>\n",
       "      <td>0.21</td>\n",
       "      <td>Premium</td>\n",
       "      <td>E</td>\n",
       "      <td>SI1</td>\n",
       "      <td>59.8</td>\n",
       "      <td>61.0</td>\n",
       "      <td>326</td>\n",
       "      <td>3.89</td>\n",
       "      <td>3.84</td>\n",
       "      <td>2.31</td>\n",
       "    </tr>\n",
       "    <tr>\n",
       "      <th>2</th>\n",
       "      <td>0.23</td>\n",
       "      <td>Good</td>\n",
       "      <td>E</td>\n",
       "      <td>VS1</td>\n",
       "      <td>56.9</td>\n",
       "      <td>65.0</td>\n",
       "      <td>327</td>\n",
       "      <td>4.05</td>\n",
       "      <td>4.07</td>\n",
       "      <td>2.31</td>\n",
       "    </tr>\n",
       "    <tr>\n",
       "      <th>3</th>\n",
       "      <td>0.29</td>\n",
       "      <td>Premium</td>\n",
       "      <td>I</td>\n",
       "      <td>VS2</td>\n",
       "      <td>62.4</td>\n",
       "      <td>58.0</td>\n",
       "      <td>334</td>\n",
       "      <td>4.20</td>\n",
       "      <td>4.23</td>\n",
       "      <td>2.63</td>\n",
       "    </tr>\n",
       "    <tr>\n",
       "      <th>4</th>\n",
       "      <td>0.31</td>\n",
       "      <td>Good</td>\n",
       "      <td>J</td>\n",
       "      <td>SI2</td>\n",
       "      <td>63.3</td>\n",
       "      <td>58.0</td>\n",
       "      <td>335</td>\n",
       "      <td>4.34</td>\n",
       "      <td>4.35</td>\n",
       "      <td>2.75</td>\n",
       "    </tr>\n",
       "  </tbody>\n",
       "</table>\n",
       "</div>"
      ],
      "text/plain": [
       "   carat      cut color clarity  depth  table  price     x     y     z\n",
       "0   0.23    Ideal     E     SI2   61.5   55.0    326  3.95  3.98  2.43\n",
       "1   0.21  Premium     E     SI1   59.8   61.0    326  3.89  3.84  2.31\n",
       "2   0.23     Good     E     VS1   56.9   65.0    327  4.05  4.07  2.31\n",
       "3   0.29  Premium     I     VS2   62.4   58.0    334  4.20  4.23  2.63\n",
       "4   0.31     Good     J     SI2   63.3   58.0    335  4.34  4.35  2.75"
      ]
     },
     "execution_count": 14,
     "metadata": {},
     "output_type": "execute_result"
    }
   ],
   "source": [
    "df.head()"
   ]
  },
  {
   "cell_type": "code",
   "execution_count": 16,
   "id": "c014b922",
   "metadata": {},
   "outputs": [],
   "source": [
    "# From data we can sepearate catagorical and continuous\n",
    "\n",
    "X_cont = X[['carat','depth','table','x','y','z']]\n",
    "X_catg = X[['cut','color','clarity']]"
   ]
  },
  {
   "cell_type": "code",
   "execution_count": 22,
   "id": "47b2c571",
   "metadata": {},
   "outputs": [],
   "source": [
    "X_cont_Train,X_cont_Test,X_catg_Train,X_catg_Test,Y_Train,Y_Test = train_test_split(X_cont , X_catg , Y,\n",
    "                                                                              test_size = 0.20,\n",
    "                                                                              random_state = 100)"
   ]
  },
  {
   "cell_type": "code",
   "execution_count": 23,
   "id": "afdf48a6",
   "metadata": {},
   "outputs": [
    {
     "data": {
      "text/plain": [
       "((43152, 6), (10788, 6), (43152, 3), (10788, 3), 43152, 10788)"
      ]
     },
     "execution_count": 23,
     "metadata": {},
     "output_type": "execute_result"
    }
   ],
   "source": [
    "X_cont_Train.shape,X_cont_Test.shape,X_catg_Train.shape,X_catg_Test.shape,len(Y_Train),len(Y_Test)"
   ]
  },
  {
   "cell_type": "code",
   "execution_count": 42,
   "id": "5d80df51",
   "metadata": {},
   "outputs": [
    {
     "data": {
      "text/html": [
       "<div>\n",
       "<style scoped>\n",
       "    .dataframe tbody tr th:only-of-type {\n",
       "        vertical-align: middle;\n",
       "    }\n",
       "\n",
       "    .dataframe tbody tr th {\n",
       "        vertical-align: top;\n",
       "    }\n",
       "\n",
       "    .dataframe thead th {\n",
       "        text-align: right;\n",
       "    }\n",
       "</style>\n",
       "<table border=\"1\" class=\"dataframe\">\n",
       "  <thead>\n",
       "    <tr style=\"text-align: right;\">\n",
       "      <th></th>\n",
       "      <th>carat</th>\n",
       "      <th>depth</th>\n",
       "      <th>table</th>\n",
       "      <th>x</th>\n",
       "      <th>y</th>\n",
       "      <th>z</th>\n",
       "    </tr>\n",
       "  </thead>\n",
       "  <tbody>\n",
       "    <tr>\n",
       "      <th>27187</th>\n",
       "      <td>2.01</td>\n",
       "      <td>60.2</td>\n",
       "      <td>59.0</td>\n",
       "      <td>8.18</td>\n",
       "      <td>8.12</td>\n",
       "      <td>4.91</td>\n",
       "    </tr>\n",
       "    <tr>\n",
       "      <th>3118</th>\n",
       "      <td>0.79</td>\n",
       "      <td>62.0</td>\n",
       "      <td>55.9</td>\n",
       "      <td>5.88</td>\n",
       "      <td>5.95</td>\n",
       "      <td>3.67</td>\n",
       "    </tr>\n",
       "    <tr>\n",
       "      <th>49238</th>\n",
       "      <td>0.64</td>\n",
       "      <td>61.1</td>\n",
       "      <td>55.0</td>\n",
       "      <td>5.58</td>\n",
       "      <td>5.61</td>\n",
       "      <td>3.43</td>\n",
       "    </tr>\n",
       "    <tr>\n",
       "      <th>53575</th>\n",
       "      <td>0.70</td>\n",
       "      <td>62.7</td>\n",
       "      <td>56.0</td>\n",
       "      <td>5.73</td>\n",
       "      <td>5.63</td>\n",
       "      <td>3.56</td>\n",
       "    </tr>\n",
       "    <tr>\n",
       "      <th>29795</th>\n",
       "      <td>0.30</td>\n",
       "      <td>61.6</td>\n",
       "      <td>58.0</td>\n",
       "      <td>4.32</td>\n",
       "      <td>4.29</td>\n",
       "      <td>2.65</td>\n",
       "    </tr>\n",
       "    <tr>\n",
       "      <th>...</th>\n",
       "      <td>...</td>\n",
       "      <td>...</td>\n",
       "      <td>...</td>\n",
       "      <td>...</td>\n",
       "      <td>...</td>\n",
       "      <td>...</td>\n",
       "    </tr>\n",
       "    <tr>\n",
       "      <th>16304</th>\n",
       "      <td>1.07</td>\n",
       "      <td>62.9</td>\n",
       "      <td>59.0</td>\n",
       "      <td>6.49</td>\n",
       "      <td>6.52</td>\n",
       "      <td>4.09</td>\n",
       "    </tr>\n",
       "    <tr>\n",
       "      <th>79</th>\n",
       "      <td>0.26</td>\n",
       "      <td>62.6</td>\n",
       "      <td>59.0</td>\n",
       "      <td>4.06</td>\n",
       "      <td>4.09</td>\n",
       "      <td>2.55</td>\n",
       "    </tr>\n",
       "    <tr>\n",
       "      <th>12119</th>\n",
       "      <td>0.91</td>\n",
       "      <td>61.8</td>\n",
       "      <td>58.0</td>\n",
       "      <td>6.24</td>\n",
       "      <td>6.16</td>\n",
       "      <td>3.83</td>\n",
       "    </tr>\n",
       "    <tr>\n",
       "      <th>14147</th>\n",
       "      <td>1.25</td>\n",
       "      <td>62.4</td>\n",
       "      <td>58.0</td>\n",
       "      <td>6.89</td>\n",
       "      <td>6.85</td>\n",
       "      <td>4.29</td>\n",
       "    </tr>\n",
       "    <tr>\n",
       "      <th>38408</th>\n",
       "      <td>0.35</td>\n",
       "      <td>62.1</td>\n",
       "      <td>56.0</td>\n",
       "      <td>4.51</td>\n",
       "      <td>4.47</td>\n",
       "      <td>2.79</td>\n",
       "    </tr>\n",
       "  </tbody>\n",
       "</table>\n",
       "<p>43152 rows × 6 columns</p>\n",
       "</div>"
      ],
      "text/plain": [
       "       carat  depth  table     x     y     z\n",
       "27187   2.01   60.2   59.0  8.18  8.12  4.91\n",
       "3118    0.79   62.0   55.9  5.88  5.95  3.67\n",
       "49238   0.64   61.1   55.0  5.58  5.61  3.43\n",
       "53575   0.70   62.7   56.0  5.73  5.63  3.56\n",
       "29795   0.30   61.6   58.0  4.32  4.29  2.65\n",
       "...      ...    ...    ...   ...   ...   ...\n",
       "16304   1.07   62.9   59.0  6.49  6.52  4.09\n",
       "79      0.26   62.6   59.0  4.06  4.09  2.55\n",
       "12119   0.91   61.8   58.0  6.24  6.16  3.83\n",
       "14147   1.25   62.4   58.0  6.89  6.85  4.29\n",
       "38408   0.35   62.1   56.0  4.51  4.47  2.79\n",
       "\n",
       "[43152 rows x 6 columns]"
      ]
     },
     "execution_count": 42,
     "metadata": {},
     "output_type": "execute_result"
    }
   ],
   "source": [
    "X_cont_Train"
   ]
  },
  {
   "cell_type": "code",
   "execution_count": 33,
   "id": "b51c8af8",
   "metadata": {},
   "outputs": [],
   "source": [
    "# copy the train data & test data \n",
    "before_Norm_Train = X_cont_Train.copy()\n",
    "before_Norm_Test = X_cont_Test.copy()"
   ]
  },
  {
   "cell_type": "markdown",
   "id": "973a2d58",
   "metadata": {},
   "source": [
    "# MinMaxScaler"
   ]
  },
  {
   "cell_type": "code",
   "execution_count": 25,
   "id": "063e2bf7",
   "metadata": {},
   "outputs": [],
   "source": [
    "from sklearn.preprocessing import MinMaxScaler"
   ]
  },
  {
   "cell_type": "code",
   "execution_count": 26,
   "id": "0708f452",
   "metadata": {},
   "outputs": [],
   "source": [
    "normScaler = MinMaxScaler()"
   ]
  },
  {
   "cell_type": "code",
   "execution_count": 27,
   "id": "9641a97a",
   "metadata": {},
   "outputs": [
    {
     "data": {
      "text/plain": [
       "array([[0.37629938, 0.47777778, 0.30769231, 0.76163873, 0.13786078,\n",
       "        0.60918114],\n",
       "       [0.12266112, 0.52777778, 0.24807692, 0.54748603, 0.10101868,\n",
       "        0.45533499],\n",
       "       [0.09147609, 0.50277778, 0.23076923, 0.51955307, 0.09524618,\n",
       "        0.42555831],\n",
       "       ...,\n",
       "       [0.14760915, 0.52222222, 0.28846154, 0.58100559, 0.10458404,\n",
       "        0.4751861 ],\n",
       "       [0.21829522, 0.53888889, 0.28846154, 0.641527  , 0.11629881,\n",
       "        0.53225806],\n",
       "       [0.03118503, 0.53055556, 0.25      , 0.41992551, 0.07589134,\n",
       "        0.34615385]])"
      ]
     },
     "execution_count": 27,
     "metadata": {},
     "output_type": "execute_result"
    }
   ],
   "source": [
    "normScaler.fit_transform(X_cont_Train)   # In the form of Array"
   ]
  },
  {
   "cell_type": "code",
   "execution_count": 28,
   "id": "927f9ad8",
   "metadata": {},
   "outputs": [],
   "source": [
    "X_cont_norm_Train = pd.DataFrame(normScaler.fit_transform(X_cont_Train),  # In the form of Pandas\n",
    "                                columns = X_cont_Train.columns,\n",
    "                                index = X_cont_Train.index)"
   ]
  },
  {
   "cell_type": "code",
   "execution_count": 29,
   "id": "72b6cf10",
   "metadata": {},
   "outputs": [
    {
     "data": {
      "text/html": [
       "<div>\n",
       "<style scoped>\n",
       "    .dataframe tbody tr th:only-of-type {\n",
       "        vertical-align: middle;\n",
       "    }\n",
       "\n",
       "    .dataframe tbody tr th {\n",
       "        vertical-align: top;\n",
       "    }\n",
       "\n",
       "    .dataframe thead th {\n",
       "        text-align: right;\n",
       "    }\n",
       "</style>\n",
       "<table border=\"1\" class=\"dataframe\">\n",
       "  <thead>\n",
       "    <tr style=\"text-align: right;\">\n",
       "      <th></th>\n",
       "      <th>carat</th>\n",
       "      <th>depth</th>\n",
       "      <th>table</th>\n",
       "      <th>x</th>\n",
       "      <th>y</th>\n",
       "      <th>z</th>\n",
       "    </tr>\n",
       "  </thead>\n",
       "  <tbody>\n",
       "    <tr>\n",
       "      <th>27187</th>\n",
       "      <td>0.376299</td>\n",
       "      <td>0.477778</td>\n",
       "      <td>0.307692</td>\n",
       "      <td>0.761639</td>\n",
       "      <td>0.137861</td>\n",
       "      <td>0.609181</td>\n",
       "    </tr>\n",
       "    <tr>\n",
       "      <th>3118</th>\n",
       "      <td>0.122661</td>\n",
       "      <td>0.527778</td>\n",
       "      <td>0.248077</td>\n",
       "      <td>0.547486</td>\n",
       "      <td>0.101019</td>\n",
       "      <td>0.455335</td>\n",
       "    </tr>\n",
       "    <tr>\n",
       "      <th>49238</th>\n",
       "      <td>0.091476</td>\n",
       "      <td>0.502778</td>\n",
       "      <td>0.230769</td>\n",
       "      <td>0.519553</td>\n",
       "      <td>0.095246</td>\n",
       "      <td>0.425558</td>\n",
       "    </tr>\n",
       "    <tr>\n",
       "      <th>53575</th>\n",
       "      <td>0.103950</td>\n",
       "      <td>0.547222</td>\n",
       "      <td>0.250000</td>\n",
       "      <td>0.533520</td>\n",
       "      <td>0.095586</td>\n",
       "      <td>0.441687</td>\n",
       "    </tr>\n",
       "    <tr>\n",
       "      <th>29795</th>\n",
       "      <td>0.020790</td>\n",
       "      <td>0.516667</td>\n",
       "      <td>0.288462</td>\n",
       "      <td>0.402235</td>\n",
       "      <td>0.072835</td>\n",
       "      <td>0.328784</td>\n",
       "    </tr>\n",
       "    <tr>\n",
       "      <th>...</th>\n",
       "      <td>...</td>\n",
       "      <td>...</td>\n",
       "      <td>...</td>\n",
       "      <td>...</td>\n",
       "      <td>...</td>\n",
       "      <td>...</td>\n",
       "    </tr>\n",
       "    <tr>\n",
       "      <th>16304</th>\n",
       "      <td>0.180873</td>\n",
       "      <td>0.552778</td>\n",
       "      <td>0.307692</td>\n",
       "      <td>0.604283</td>\n",
       "      <td>0.110696</td>\n",
       "      <td>0.507444</td>\n",
       "    </tr>\n",
       "    <tr>\n",
       "      <th>79</th>\n",
       "      <td>0.012474</td>\n",
       "      <td>0.544444</td>\n",
       "      <td>0.307692</td>\n",
       "      <td>0.378026</td>\n",
       "      <td>0.069440</td>\n",
       "      <td>0.316377</td>\n",
       "    </tr>\n",
       "    <tr>\n",
       "      <th>12119</th>\n",
       "      <td>0.147609</td>\n",
       "      <td>0.522222</td>\n",
       "      <td>0.288462</td>\n",
       "      <td>0.581006</td>\n",
       "      <td>0.104584</td>\n",
       "      <td>0.475186</td>\n",
       "    </tr>\n",
       "    <tr>\n",
       "      <th>14147</th>\n",
       "      <td>0.218295</td>\n",
       "      <td>0.538889</td>\n",
       "      <td>0.288462</td>\n",
       "      <td>0.641527</td>\n",
       "      <td>0.116299</td>\n",
       "      <td>0.532258</td>\n",
       "    </tr>\n",
       "    <tr>\n",
       "      <th>38408</th>\n",
       "      <td>0.031185</td>\n",
       "      <td>0.530556</td>\n",
       "      <td>0.250000</td>\n",
       "      <td>0.419926</td>\n",
       "      <td>0.075891</td>\n",
       "      <td>0.346154</td>\n",
       "    </tr>\n",
       "  </tbody>\n",
       "</table>\n",
       "<p>43152 rows × 6 columns</p>\n",
       "</div>"
      ],
      "text/plain": [
       "          carat     depth     table         x         y         z\n",
       "27187  0.376299  0.477778  0.307692  0.761639  0.137861  0.609181\n",
       "3118   0.122661  0.527778  0.248077  0.547486  0.101019  0.455335\n",
       "49238  0.091476  0.502778  0.230769  0.519553  0.095246  0.425558\n",
       "53575  0.103950  0.547222  0.250000  0.533520  0.095586  0.441687\n",
       "29795  0.020790  0.516667  0.288462  0.402235  0.072835  0.328784\n",
       "...         ...       ...       ...       ...       ...       ...\n",
       "16304  0.180873  0.552778  0.307692  0.604283  0.110696  0.507444\n",
       "79     0.012474  0.544444  0.307692  0.378026  0.069440  0.316377\n",
       "12119  0.147609  0.522222  0.288462  0.581006  0.104584  0.475186\n",
       "14147  0.218295  0.538889  0.288462  0.641527  0.116299  0.532258\n",
       "38408  0.031185  0.530556  0.250000  0.419926  0.075891  0.346154\n",
       "\n",
       "[43152 rows x 6 columns]"
      ]
     },
     "execution_count": 29,
     "metadata": {},
     "output_type": "execute_result"
    }
   ],
   "source": [
    "X_cont_norm_Train"
   ]
  },
  {
   "cell_type": "code",
   "execution_count": 30,
   "id": "8330d800",
   "metadata": {},
   "outputs": [],
   "source": [
    "X_cont_norm_Test = pd.DataFrame(normScaler.fit_transform(X_cont_Test),\n",
    "                                columns = X_cont_Test.columns,\n",
    "                                index = X_cont_Test.index)"
   ]
  },
  {
   "cell_type": "code",
   "execution_count": 31,
   "id": "fd3b237c",
   "metadata": {},
   "outputs": [
    {
     "data": {
      "text/html": [
       "<div>\n",
       "<style scoped>\n",
       "    .dataframe tbody tr th:only-of-type {\n",
       "        vertical-align: middle;\n",
       "    }\n",
       "\n",
       "    .dataframe tbody tr th {\n",
       "        vertical-align: top;\n",
       "    }\n",
       "\n",
       "    .dataframe thead th {\n",
       "        text-align: right;\n",
       "    }\n",
       "</style>\n",
       "<table border=\"1\" class=\"dataframe\">\n",
       "  <thead>\n",
       "    <tr style=\"text-align: right;\">\n",
       "      <th></th>\n",
       "      <th>carat</th>\n",
       "      <th>depth</th>\n",
       "      <th>table</th>\n",
       "      <th>x</th>\n",
       "      <th>y</th>\n",
       "      <th>z</th>\n",
       "    </tr>\n",
       "  </thead>\n",
       "  <tbody>\n",
       "    <tr>\n",
       "      <th>52264</th>\n",
       "      <td>0.094148</td>\n",
       "      <td>0.633562</td>\n",
       "      <td>0.296296</td>\n",
       "      <td>0.535</td>\n",
       "      <td>0.540102</td>\n",
       "      <td>0.103145</td>\n",
       "    </tr>\n",
       "    <tr>\n",
       "      <th>21073</th>\n",
       "      <td>0.244275</td>\n",
       "      <td>0.633562</td>\n",
       "      <td>0.222222</td>\n",
       "      <td>0.675</td>\n",
       "      <td>0.691371</td>\n",
       "      <td>0.131132</td>\n",
       "    </tr>\n",
       "    <tr>\n",
       "      <th>42161</th>\n",
       "      <td>0.078880</td>\n",
       "      <td>0.691781</td>\n",
       "      <td>0.333333</td>\n",
       "      <td>0.505</td>\n",
       "      <td>0.515736</td>\n",
       "      <td>0.100629</td>\n",
       "    </tr>\n",
       "    <tr>\n",
       "      <th>35974</th>\n",
       "      <td>0.055980</td>\n",
       "      <td>0.602740</td>\n",
       "      <td>0.259259</td>\n",
       "      <td>0.483</td>\n",
       "      <td>0.494416</td>\n",
       "      <td>0.092453</td>\n",
       "    </tr>\n",
       "    <tr>\n",
       "      <th>7641</th>\n",
       "      <td>0.152672</td>\n",
       "      <td>0.671233</td>\n",
       "      <td>0.333333</td>\n",
       "      <td>0.589</td>\n",
       "      <td>0.602030</td>\n",
       "      <td>0.116352</td>\n",
       "    </tr>\n",
       "    <tr>\n",
       "      <th>...</th>\n",
       "      <td>...</td>\n",
       "      <td>...</td>\n",
       "      <td>...</td>\n",
       "      <td>...</td>\n",
       "      <td>...</td>\n",
       "      <td>...</td>\n",
       "    </tr>\n",
       "    <tr>\n",
       "      <th>17694</th>\n",
       "      <td>0.256997</td>\n",
       "      <td>0.657534</td>\n",
       "      <td>0.222222</td>\n",
       "      <td>0.679</td>\n",
       "      <td>0.693401</td>\n",
       "      <td>0.133019</td>\n",
       "    </tr>\n",
       "    <tr>\n",
       "      <th>22403</th>\n",
       "      <td>0.351145</td>\n",
       "      <td>0.619863</td>\n",
       "      <td>0.370370</td>\n",
       "      <td>0.744</td>\n",
       "      <td>0.763452</td>\n",
       "      <td>0.143711</td>\n",
       "    </tr>\n",
       "    <tr>\n",
       "      <th>53573</th>\n",
       "      <td>0.127226</td>\n",
       "      <td>0.678082</td>\n",
       "      <td>0.296296</td>\n",
       "      <td>0.571</td>\n",
       "      <td>0.570558</td>\n",
       "      <td>0.111950</td>\n",
       "    </tr>\n",
       "    <tr>\n",
       "      <th>7941</th>\n",
       "      <td>0.162850</td>\n",
       "      <td>0.571918</td>\n",
       "      <td>0.370370</td>\n",
       "      <td>0.616</td>\n",
       "      <td>0.622335</td>\n",
       "      <td>0.115409</td>\n",
       "    </tr>\n",
       "    <tr>\n",
       "      <th>2838</th>\n",
       "      <td>0.193384</td>\n",
       "      <td>0.592466</td>\n",
       "      <td>0.370370</td>\n",
       "      <td>0.640</td>\n",
       "      <td>0.645685</td>\n",
       "      <td>0.121069</td>\n",
       "    </tr>\n",
       "  </tbody>\n",
       "</table>\n",
       "<p>10788 rows × 6 columns</p>\n",
       "</div>"
      ],
      "text/plain": [
       "          carat     depth     table      x         y         z\n",
       "52264  0.094148  0.633562  0.296296  0.535  0.540102  0.103145\n",
       "21073  0.244275  0.633562  0.222222  0.675  0.691371  0.131132\n",
       "42161  0.078880  0.691781  0.333333  0.505  0.515736  0.100629\n",
       "35974  0.055980  0.602740  0.259259  0.483  0.494416  0.092453\n",
       "7641   0.152672  0.671233  0.333333  0.589  0.602030  0.116352\n",
       "...         ...       ...       ...    ...       ...       ...\n",
       "17694  0.256997  0.657534  0.222222  0.679  0.693401  0.133019\n",
       "22403  0.351145  0.619863  0.370370  0.744  0.763452  0.143711\n",
       "53573  0.127226  0.678082  0.296296  0.571  0.570558  0.111950\n",
       "7941   0.162850  0.571918  0.370370  0.616  0.622335  0.115409\n",
       "2838   0.193384  0.592466  0.370370  0.640  0.645685  0.121069\n",
       "\n",
       "[10788 rows x 6 columns]"
      ]
     },
     "execution_count": 31,
     "metadata": {},
     "output_type": "execute_result"
    }
   ],
   "source": [
    "X_cont_norm_Test"
   ]
  },
  {
   "cell_type": "code",
   "execution_count": 34,
   "id": "8c69f87c",
   "metadata": {},
   "outputs": [
    {
     "data": {
      "text/plain": [
       "<Axes: ylabel='Count'>"
      ]
     },
     "execution_count": 34,
     "metadata": {},
     "output_type": "execute_result"
    },
    {
     "data": {
      "image/png": "[encoded data removed]",
      "text/plain": [
       "<Figure size 640x480 with 1 Axes>"
      ]
     },
     "metadata": {},
     "output_type": "display_data"
    }
   ],
   "source": [
    "import seaborn as sns\n",
    "sns.histplot(before_Norm_Train,kde = True)"
   ]
  },
  {
   "cell_type": "code",
   "execution_count": 35,
   "id": "0c4d5963",
   "metadata": {},
   "outputs": [
    {
     "data": {
      "text/plain": [
       "<Axes: ylabel='Count'>"
      ]
     },
     "execution_count": 35,
     "metadata": {},
     "output_type": "execute_result"
    },
    {
     "data": {
      "image/png": "[encoded data removed]",
      "text/plain": [
       "<Figure size 640x480 with 1 Axes>"
      ]
     },
     "metadata": {},
     "output_type": "display_data"
    }
   ],
   "source": [
    "import seaborn as sns\n",
    "sns.histplot(X_cont_norm_Train,kde = True)"
   ]
  },
  {
   "cell_type": "markdown",
   "id": "13a77b93",
   "metadata": {},
   "source": [
    "# ---------------------------------------------------------------------> CONTINUE"
   ]
  },
  {
   "cell_type": "code",
   "execution_count": null,
   "id": "59ae87ca",
   "metadata": {},
   "outputs": [],
   "source": []
  }
 ],
 "metadata": {
  "kernelspec": {
   "display_name": "Python 3 (ipykernel)",
   "language": "python",
   "name": "python3"
  },
  "language_info": {
   "codemirror_mode": {
    "name": "ipython",
    "version": 3
   },
   "file_extension": ".py",
   "mimetype": "text/x-python",
   "name": "python",
   "nbconvert_exporter": "python",
   "pygments_lexer": "ipython3",
   "version": "3.10.9"
  }
 },
 "nbformat": 4,
 "nbformat_minor": 5
}
